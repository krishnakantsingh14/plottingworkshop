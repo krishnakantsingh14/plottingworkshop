{
  "nbformat": 4,
  "nbformat_minor": 0,
  "metadata": {
    "colab": {
      "name": "seaborndata_visualization.ipynb",
      "private_outputs": true,
      "provenance": []
    },
    "kernelspec": {
      "name": "python3",
      "display_name": "Python 3"
    },
    "language_info": {
      "name": "python"
    }
  },
  "cells": [
    {
      "cell_type": "code",
      "metadata": {
        "id": "huj86gTzkgh5"
      },
      "source": [
        "import pandas as pd \n",
        "import seaborn as sns \n",
        "import matplotlib.pyplot as plt\n"
      ],
      "execution_count": null,
      "outputs": []
    },
    {
      "cell_type": "code",
      "metadata": {
        "id": "AlpJKHSQlJd4"
      },
      "source": [
        "# sns.get_dataset_names()"
      ],
      "execution_count": null,
      "outputs": []
    },
    {
      "cell_type": "code",
      "metadata": {
        "id": "mK4aJ6IulWRN"
      },
      "source": [
        "df = sns.load_dataset(name='penguins')"
      ],
      "execution_count": null,
      "outputs": []
    },
    {
      "cell_type": "code",
      "metadata": {
        "id": "JIMtmLOrlcoS"
      },
      "source": [
        "df.head()"
      ],
      "execution_count": null,
      "outputs": []
    },
    {
      "cell_type": "code",
      "metadata": {
        "id": "HfTIHGcopiye"
      },
      "source": [
        "df['species'].unique()"
      ],
      "execution_count": null,
      "outputs": []
    },
    {
      "cell_type": "code",
      "metadata": {
        "id": "2Qb0h7FNpk1r"
      },
      "source": [
        "print(df['species'].value_counts())"
      ],
      "execution_count": null,
      "outputs": []
    },
    {
      "cell_type": "code",
      "metadata": {
        "id": "aekRY0NJzS7k"
      },
      "source": [
        "sns.histplot(data=df, x='bill_length_mm');\n"
      ],
      "execution_count": null,
      "outputs": []
    },
    {
      "cell_type": "code",
      "metadata": {
        "id": "2kWkesAmzmcL"
      },
      "source": [
        "sns.boxplot(data=df, x='species', y='bill_length_mm' );"
      ],
      "execution_count": null,
      "outputs": []
    },
    {
      "cell_type": "code",
      "metadata": {
        "id": "-izFtnK2z8Kw"
      },
      "source": [
        "sns.violinplot(data=df, x='species', y='bill_length_mm' );"
      ],
      "execution_count": null,
      "outputs": []
    },
    {
      "cell_type": "code",
      "metadata": {
        "id": "dK68B76x0g_C"
      },
      "source": [
        "# df_cs = df[df['species'] ==  'Chinstrap']\n",
        "plt.figure(figsize=(12,8))\n",
        "sns.violinplot(data=df,x='species', hue='sex', y='bill_length_mm', inner=\"points\");\n",
        "plt.show()\n",
        "# sns.boxplot(data=df,x='species', hue='sex', y='bill_length_mm');"
      ],
      "execution_count": null,
      "outputs": []
    },
    {
      "cell_type": "code",
      "metadata": {
        "id": "LSrVLW2r05X0"
      },
      "source": [
        "# plt.style.use('seaborn-whitegrid')\n",
        "# plt.style.use('seaborn-talk')\n",
        "ax = plt.figure(figsize=(12,8))\n",
        "# sns.catplot(hue='species', data=df, x='sex', y='bill_length_mm', kind='violin')\n",
        "sns.violinplot(data=df,x='species', hue='sex', y='bill_length_mm', inner=\"points\");\n",
        "plt.ylabel('Bill Length (cm)', fontsize=30)\n",
        "plt.legend(loc=2, fontsize=25)\n",
        "plt.xticks(fontsize=20, rotation=45)"
      ],
      "execution_count": null,
      "outputs": []
    },
    {
      "cell_type": "code",
      "metadata": {
        "id": "3CDqyXE_3K24"
      },
      "source": [
        "sns.scatterplot(data=df, x ='bill_length_mm', y='bill_depth_mm',\n",
        "                hue='species',\n",
        "                style='island')"
      ],
      "execution_count": null,
      "outputs": []
    },
    {
      "cell_type": "code",
      "metadata": {
        "id": "m1mzzy1x4eyi"
      },
      "source": [
        "sns.scatterplot(data=df, x ='body_mass_g', y='flipper_length_mm',\n",
        "                hue='species',\n",
        "                style='island')"
      ],
      "execution_count": null,
      "outputs": []
    },
    {
      "cell_type": "code",
      "metadata": {
        "id": "SL8gadmC6_TC"
      },
      "source": [
        "ax = plt.figure(figsize=(12,8));\n",
        "sns.lmplot(data=df, x ='body_mass_g', y='flipper_length_mm')"
      ],
      "execution_count": null,
      "outputs": []
    },
    {
      "cell_type": "code",
      "metadata": {
        "id": "BmC3JrDY8nDM"
      },
      "source": [
        "df_adelie = df[df.species=='Adelie']"
      ],
      "execution_count": null,
      "outputs": []
    },
    {
      "cell_type": "code",
      "metadata": {
        "id": "uukt2ctf9LLJ"
      },
      "source": [
        "sns.lmplot(data=df_adelie, x ='body_mass_g', y='flipper_length_mm')"
      ],
      "execution_count": null,
      "outputs": []
    },
    {
      "cell_type": "code",
      "metadata": {
        "id": "_eFH3f8x9cG2"
      },
      "source": [
        "from pandas.plotting import parallel_coordinates"
      ],
      "execution_count": null,
      "outputs": []
    },
    {
      "cell_type": "code",
      "metadata": {
        "id": "uRPXl4Do-z21"
      },
      "source": [
        "# parallel_coordinates(df[['bill_depth_mm', 'body_mass_g', 'species']], 'species')"
      ],
      "execution_count": null,
      "outputs": []
    },
    {
      "cell_type": "code",
      "metadata": {
        "id": "G2dReu0B-142"
      },
      "source": [
        "df"
      ],
      "execution_count": null,
      "outputs": []
    },
    {
      "cell_type": "code",
      "metadata": {
        "id": "hIVGGieu_Xjt"
      },
      "source": [
        ""
      ],
      "execution_count": null,
      "outputs": []
    }
  ]
}